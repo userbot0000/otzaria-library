{
 "cells": [
  {
   "cell_type": "code",
   "execution_count": 2,
   "metadata": {
    "vscode": {
     "languageId": "r"
    }
   },
   "outputs": [],
   "source": [
    "# install.packages('wikisourcer')\n",
    "library(wikisourcer)"
   ]
  },
  {
   "cell_type": "code",
   "execution_count": 4,
   "metadata": {
    "vscode": {
     "languageId": "r"
    }
   },
   "outputs": [
    {
     "name": "stderr",
     "output_type": "stream",
     "text": [
      "I'm a teapot (RFC 2324) (HTTP 418).\n"
     ]
    }
   ],
   "source": [
    "book_url = 'https://he.m.wikisource.org/wiki/%D7%9B%D7%A3_%D7%94%D7%97%D7%99%D7%99%D7%9D_(%D7%A4%D7%90%D7%9C%D7%90%D7%92%27%D7%99)'\n",
    "book = wikisource_book(book_url,cleaned = TRUE)"
   ]
  },
  {
   "cell_type": "code",
   "execution_count": 5,
   "metadata": {
    "vscode": {
     "languageId": "r"
    }
   },
   "outputs": [],
   "source": [
    "library(stringr)\n",
    "write.csv(book,paste(str_split_i(string = book_url, pattern = \"/\", -1),'.csv'))"
   ]
  }
 ],
 "metadata": {
  "kernelspec": {
   "display_name": "R",
   "language": "R",
   "name": "ir"
  },
  "language_info": {
   "codemirror_mode": "r",
   "file_extension": ".r",
   "mimetype": "text/x-r-source",
   "name": "R",
   "pygments_lexer": "r",
   "version": "4.4.1"
  }
 },
 "nbformat": 4,
 "nbformat_minor": 2
}
